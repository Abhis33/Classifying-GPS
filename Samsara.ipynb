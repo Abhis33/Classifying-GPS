{
 "cells": [
  {
   "cell_type": "markdown",
   "metadata": {},
   "source": [
    "<H1> Hello World!!! </H1>"
   ]
  },
  {
   "cell_type": "markdown",
   "metadata": {},
   "source": [
    "<H2> Tasks - </H2>\n",
    "<br>\n",
    "- Read all text files <br>\n",
    "- Convert into single csv <br>\n",
    "- Upload to bigQuery Google <br>\n",
    "- Visualizations with Tableau <br>\n",
    "- Run unsupervised clustering <br>\n",
    "- Deliver actual results <br>"
   ]
  },
  {
   "cell_type": "code",
   "execution_count": 30,
   "metadata": {},
   "outputs": [],
   "source": [
    "import pandas as pd\n",
    "import numpy as np\n",
    "import os\n",
    "import re"
   ]
  },
  {
   "cell_type": "code",
   "execution_count": 2,
   "metadata": {
    "scrolled": true
   },
   "outputs": [
    {
     "name": "stdout",
     "output_type": "stream",
     "text": [
      "2018-03-08 19:40:56\tInput SN : GEDE-XTJ-53W\n",
      "\n",
      "\n",
      "\n",
      "\n",
      "===============\n",
      "\n",
      "GPS Module Detect....\n",
      "\n",
      "===============\n",
      "\n",
      "Detect OK! Use time = 6031.637 sec.\n",
      "\n",
      "\n",
      "\n",
      "\n",
      "\n",
      "===============\n",
      "\n",
      "Enable GPS Module....\n",
      "\n",
      "===============\n",
      "\n",
      "at@gpsengine=1\n",
      "\n",
      "\n",
      "\n",
      "OK\n",
      "\n",
      "*********************\n",
      "\n",
      "Enable GPS Module OK! Use time = 3.550 sec.\n",
      "\n",
      "\n",
      "\n",
      "\n",
      "\n",
      "===============\n",
      "\n",
      "GPS Signal Test....\n",
      "\n",
      "===============\n",
      "\n",
      "TTFF = 112.0 (s)\n",
      "\n",
      "\n",
      "\n",
      "SNR1 = 34\n",
      "\n",
      "SNR2 = 34\n",
      "\n",
      "SNR3 = 34\n",
      "\n",
      "SNR4 = 34\n",
      "\n",
      "SNR5 = 38\n",
      "\n",
      "SNR6 = 37\n",
      "\n",
      "SNR7 = 30\n",
      "\n",
      "SNR8 = 38\n",
      "\n",
      "*********************\n",
      "\n",
      "GPS Signal Test PASS! Use time = 121.054 sec.\n",
      "\n",
      "\n",
      "Total Time 00:02:41\n",
      "\n"
     ]
    }
   ],
   "source": [
    "#Read text files\n",
    "\n",
    "OneFile = \"GPS Test Data/LI5-1834230M/PASS/2018_03_08_GEDE-XTJ-53W.txt\"\n",
    "\n",
    "with open(OneFile) as f:\n",
    "    print(f.read())"
   ]
  },
  {
   "cell_type": "code",
   "execution_count": 3,
   "metadata": {},
   "outputs": [
    {
     "name": "stdout",
     "output_type": "stream",
     "text": [
      "['2018-03-08 19:40:56\\tInput SN : GEDE-XTJ-53W', '===============', 'GPS Module Detect....', '===============', 'Detect OK! Use time = 6031.637 sec.', '===============', 'Enable GPS Module....', '===============', 'at@gpsengine=1', 'OK', '*********************', 'Enable GPS Module OK! Use time = 3.550 sec.', '===============', 'GPS Signal Test....', '===============', 'TTFF = 112.0 (s)', 'SNR1 = 34', 'SNR2 = 34', 'SNR3 = 34', 'SNR4 = 34', 'SNR5 = 38', 'SNR6 = 37', 'SNR7 = 30', 'SNR8 = 38', '*********************', 'GPS Signal Test PASS! Use time = 121.054 sec.', 'Total Time 00:02:41']\n"
     ]
    }
   ],
   "source": [
    "content = []\n",
    "with open(OneFile) as f:\n",
    "    content = f.readlines()\n",
    "    content = [x.strip() for x in content] \n",
    "    content = [elem for elem in content if elem != \"\"]\n",
    "    print(content) "
   ]
  },
  {
   "cell_type": "code",
   "execution_count": 21,
   "metadata": {},
   "outputs": [],
   "source": [
    "def return_text_list(fname):\n",
    "    content = []\n",
    "    \n",
    "    with open(fname) as f:\n",
    "        content = f.readlines()\n",
    "        content = [x.strip() for x in content] \n",
    "        content = [elem for elem in content if elem != \"\"]\n",
    "        \n",
    "    return content"
   ]
  },
  {
   "cell_type": "code",
   "execution_count": 27,
   "metadata": {},
   "outputs": [],
   "source": [
    "def more_cleaning(each,content):\n",
    "    tmp_content = []\n",
    "    \n",
    "    #Appending folder name\n",
    "    tmp_content.append(each)\n",
    "    \n",
    "    #Extracting DateTime\n",
    "    dT = content[0].split(\"\\t\")[0]\n",
    "    \n",
    "    tmp_content.append(dT)\n",
    "    \n",
    "    #Extracting Input SN\n",
    "    tmp_str = content[0].split(\"\\t\")[1]\n",
    "    SN = tmp_str[tmp_str.find(\":\")+2:]\n",
    "    \n",
    "    tmp_content.append(SN)\n",
    "    print(tmp_content)\n",
    "    \n",
    "    tmp2 = []\n",
    "    \n",
    "    for each in content:\n",
    "        matchObj = re.match('^[^\\=]*\\=[^\\=]*$',each)\n",
    "\n",
    "        if matchObj:\n",
    "    \n",
    "    "
   ]
  },
  {
   "cell_type": "code",
   "execution_count": 37,
   "metadata": {},
   "outputs": [
    {
     "data": {
      "text/plain": [
       "<re.Match object; span=(0, 6), match='abc=de'>"
      ]
     },
     "execution_count": 37,
     "metadata": {},
     "output_type": "execute_result"
    }
   ],
   "source": [
    "a = \"abc=de\"\n",
    "re.match('^[^\\=]*\\=[^\\=]*$',a)"
   ]
  },
  {
   "cell_type": "code",
   "execution_count": 28,
   "metadata": {},
   "outputs": [
    {
     "name": "stdout",
     "output_type": "stream",
     "text": [
      "['LI5-1834230M', '2018-03-08 19:40:56', 'GEDE-XTJ-53W']\n",
      "['LI5-1834411M', '2018-04-03 23:21:51', 'G2PX-U7Y-HKE']\n",
      "['LI5-1834871M', '2018-03-28 14:33:22', 'G23B-HET-28P']\n",
      "['LI5-1843681M', '2018-04-14 23:50:53', 'G4KN-FU3-UN2']\n",
      "['LI5-1843682M', '2018-04-15 12:05:18', 'G3G3-2HW-XYN']\n",
      "['LI5-1843685M', '2018-04-14 16:19:19', 'G29G-EKM-VCX']\n"
     ]
    }
   ],
   "source": [
    "col_lst2 = ['Folder','DateTime','SN','UseTime','GPSEngine','WHERE TO APPLY','APPLICATION DEADLINE','SELECTION','NOTE','NOTICE']\n",
    "\n",
    "#Read multiple files\n",
    "base = \"GPS Test Data/\"\n",
    "\n",
    "for each in os.listdir(base):\n",
    "    dir_name = base+each+\"/PASS/\"\n",
    "    \n",
    "    for each2 in os.listdir(dir_name):\n",
    "        tmp_content = return_text_list(dir_name+each2)\n",
    "        \n",
    "        more_cleaning(each,tmp_content)\n",
    "        break\n",
    "        "
   ]
  }
 ],
 "metadata": {
  "kernelspec": {
   "display_name": "Python 3",
   "language": "python",
   "name": "python3"
  },
  "language_info": {
   "codemirror_mode": {
    "name": "ipython",
    "version": 3
   },
   "file_extension": ".py",
   "mimetype": "text/x-python",
   "name": "python",
   "nbconvert_exporter": "python",
   "pygments_lexer": "ipython3",
   "version": "3.7.4"
  }
 },
 "nbformat": 4,
 "nbformat_minor": 2
}
