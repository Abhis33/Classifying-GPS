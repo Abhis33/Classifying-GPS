{
 "cells": [
  {
   "cell_type": "markdown",
   "metadata": {},
   "source": [
    "<H1> Hello World!!! </H1>"
   ]
  },
  {
   "cell_type": "markdown",
   "metadata": {},
   "source": [
    "<H2> Tasks - </H2>\n",
    "<br>\n",
    "- Read all text files <br>\n",
    "- Convert into single csv <br>\n",
    "- Upload to bigQuery Google <br>\n",
    "- Visualizations with Tableau <br>\n",
    "- Run unsupervised clustering <br>\n",
    "- Deliver actual results <br>"
   ]
  },
  {
   "cell_type": "code",
   "execution_count": 1,
   "metadata": {},
   "outputs": [],
   "source": [
    "import pandas as pd\n",
    "import numpy as np"
   ]
  },
  {
   "cell_type": "code",
   "execution_count": 2,
   "metadata": {
    "scrolled": true
   },
   "outputs": [
    {
     "name": "stdout",
     "output_type": "stream",
     "text": [
      "2018-03-08 19:40:56\tInput SN : GEDE-XTJ-53W\n",
      "\n",
      "\n",
      "\n",
      "\n",
      "===============\n",
      "\n",
      "GPS Module Detect....\n",
      "\n",
      "===============\n",
      "\n",
      "Detect OK! Use time = 6031.637 sec.\n",
      "\n",
      "\n",
      "\n",
      "\n",
      "\n",
      "===============\n",
      "\n",
      "Enable GPS Module....\n",
      "\n",
      "===============\n",
      "\n",
      "at@gpsengine=1\n",
      "\n",
      "\n",
      "\n",
      "OK\n",
      "\n",
      "*********************\n",
      "\n",
      "Enable GPS Module OK! Use time = 3.550 sec.\n",
      "\n",
      "\n",
      "\n",
      "\n",
      "\n",
      "===============\n",
      "\n",
      "GPS Signal Test....\n",
      "\n",
      "===============\n",
      "\n",
      "TTFF = 112.0 (s)\n",
      "\n",
      "\n",
      "\n",
      "SNR1 = 34\n",
      "\n",
      "SNR2 = 34\n",
      "\n",
      "SNR3 = 34\n",
      "\n",
      "SNR4 = 34\n",
      "\n",
      "SNR5 = 38\n",
      "\n",
      "SNR6 = 37\n",
      "\n",
      "SNR7 = 30\n",
      "\n",
      "SNR8 = 38\n",
      "\n",
      "*********************\n",
      "\n",
      "GPS Signal Test PASS! Use time = 121.054 sec.\n",
      "\n",
      "\n",
      "Total Time 00:02:41\n",
      "\n"
     ]
    }
   ],
   "source": [
    "#Read text files\n",
    "\n",
    "OneFile = \"GPS Test Data/LI5-1834230M/PASS/2018_03_08_GEDE-XTJ-53W.txt\"\n",
    "\n",
    "with open(OneFile) as f:\n",
    "    print(f.read())"
   ]
  },
  {
   "cell_type": "code",
   "execution_count": 3,
   "metadata": {},
   "outputs": [
    {
     "name": "stdout",
     "output_type": "stream",
     "text": [
      "['2018-03-08 19:40:56\\tInput SN : GEDE-XTJ-53W', '===============', 'GPS Module Detect....', '===============', 'Detect OK! Use time = 6031.637 sec.', '===============', 'Enable GPS Module....', '===============', 'at@gpsengine=1', 'OK', '*********************', 'Enable GPS Module OK! Use time = 3.550 sec.', '===============', 'GPS Signal Test....', '===============', 'TTFF = 112.0 (s)', 'SNR1 = 34', 'SNR2 = 34', 'SNR3 = 34', 'SNR4 = 34', 'SNR5 = 38', 'SNR6 = 37', 'SNR7 = 30', 'SNR8 = 38', '*********************', 'GPS Signal Test PASS! Use time = 121.054 sec.', 'Total Time 00:02:41']\n"
     ]
    }
   ],
   "source": [
    "content = []\n",
    "with open(OneFile) as f:\n",
    "    content = f.readlines()\n",
    "    content = [x.strip() for x in content] \n",
    "    content = [elem for elem in content if elem != \"\"]\n",
    "    print(content) "
   ]
  }
 ],
 "metadata": {
  "kernelspec": {
   "display_name": "Python 3",
   "language": "python",
   "name": "python3"
  },
  "language_info": {
   "codemirror_mode": {
    "name": "ipython",
    "version": 3
   },
   "file_extension": ".py",
   "mimetype": "text/x-python",
   "name": "python",
   "nbconvert_exporter": "python",
   "pygments_lexer": "ipython3",
   "version": "3.7.5"
  }
 },
 "nbformat": 4,
 "nbformat_minor": 2
}
