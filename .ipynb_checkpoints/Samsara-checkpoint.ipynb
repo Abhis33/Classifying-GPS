{
 "cells": [
  {
   "cell_type": "markdown",
   "metadata": {},
   "source": [
    "<H1> Hello World!!! </H1>"
   ]
  },
  {
   "cell_type": "markdown",
   "metadata": {},
   "source": [
    "<H2> Tasks - </H2>\n",
    "<br>\n",
    "- Read all text files <br>\n",
    "- Convert into single csv <br>\n",
    "- Upload to bigQuery Google <br>\n",
    "- Visualizations with Tableau <br>\n",
    "- Run unsupervised clustering <br>\n",
    "- Deliver actual results <br>"
   ]
  },
  {
   "cell_type": "code",
   "execution_count": 12,
   "metadata": {},
   "outputs": [],
   "source": [
    "import pandas as pd\n",
    "import numpy as np\n",
    "import os\n",
    "import re\n",
    "from datetime import datetime"
   ]
  },
  {
   "cell_type": "code",
   "execution_count": 2,
   "metadata": {
    "scrolled": true
   },
   "outputs": [
    {
     "name": "stdout",
     "output_type": "stream",
     "text": [
      "2018-03-08 19:40:56\tInput SN : GEDE-XTJ-53W\n",
      "\n",
      "\n",
      "\n",
      "\n",
      "===============\n",
      "\n",
      "GPS Module Detect....\n",
      "\n",
      "===============\n",
      "\n",
      "Detect OK! Use time = 6031.637 sec.\n",
      "\n",
      "\n",
      "\n",
      "\n",
      "\n",
      "===============\n",
      "\n",
      "Enable GPS Module....\n",
      "\n",
      "===============\n",
      "\n",
      "at@gpsengine=1\n",
      "\n",
      "\n",
      "\n",
      "OK\n",
      "\n",
      "*********************\n",
      "\n",
      "Enable GPS Module OK! Use time = 3.550 sec.\n",
      "\n",
      "\n",
      "\n",
      "\n",
      "\n",
      "===============\n",
      "\n",
      "GPS Signal Test....\n",
      "\n",
      "===============\n",
      "\n",
      "TTFF = 112.0 (s)\n",
      "\n",
      "\n",
      "\n",
      "SNR1 = 34\n",
      "\n",
      "SNR2 = 34\n",
      "\n",
      "SNR3 = 34\n",
      "\n",
      "SNR4 = 34\n",
      "\n",
      "SNR5 = 38\n",
      "\n",
      "SNR6 = 37\n",
      "\n",
      "SNR7 = 30\n",
      "\n",
      "SNR8 = 38\n",
      "\n",
      "*********************\n",
      "\n",
      "GPS Signal Test PASS! Use time = 121.054 sec.\n",
      "\n",
      "\n",
      "Total Time 00:02:41\n",
      "\n"
     ]
    }
   ],
   "source": [
    "#Read text files\n",
    "\n",
    "OneFile = \"GPS Test Data/LI5-1834230M/PASS/2018_03_08_GEDE-XTJ-53W.txt\"\n",
    "\n",
    "with open(OneFile) as f:\n",
    "    print(f.read())"
   ]
  },
  {
   "cell_type": "code",
   "execution_count": 3,
   "metadata": {},
   "outputs": [
    {
     "name": "stdout",
     "output_type": "stream",
     "text": [
      "['2018-03-08 19:40:56\\tInput SN : GEDE-XTJ-53W', '===============', 'GPS Module Detect....', '===============', 'Detect OK! Use time = 6031.637 sec.', '===============', 'Enable GPS Module....', '===============', 'at@gpsengine=1', 'OK', '*********************', 'Enable GPS Module OK! Use time = 3.550 sec.', '===============', 'GPS Signal Test....', '===============', 'TTFF = 112.0 (s)', 'SNR1 = 34', 'SNR2 = 34', 'SNR3 = 34', 'SNR4 = 34', 'SNR5 = 38', 'SNR6 = 37', 'SNR7 = 30', 'SNR8 = 38', '*********************', 'GPS Signal Test PASS! Use time = 121.054 sec.', 'Total Time 00:02:41']\n"
     ]
    }
   ],
   "source": [
    "content = []\n",
    "with open(OneFile) as f:\n",
    "    content = f.readlines()\n",
    "    content = [x.strip() for x in content] \n",
    "    content = [elem for elem in content if elem != \"\"]\n",
    "    print(content) "
   ]
  },
  {
   "cell_type": "code",
   "execution_count": 4,
   "metadata": {},
   "outputs": [],
   "source": [
    "def return_text_list(fname):\n",
    "    content = []\n",
    "    \n",
    "    with open(fname) as f:\n",
    "        content = f.readlines()\n",
    "        content = [x.strip() for x in content] \n",
    "        content = [elem for elem in content if elem != \"\"]\n",
    "        \n",
    "    return content"
   ]
  },
  {
   "cell_type": "code",
   "execution_count": 19,
   "metadata": {},
   "outputs": [],
   "source": [
    "def more_cleaning(folder_name,content):\n",
    "    tmp_content = {}\n",
    "    \n",
    "    #Adding folder name\n",
    "    tmp_content['Folder'] = folder_name\n",
    "    \n",
    "    #Extracting DateTime\n",
    "    dT = content[0].split(\"\\t\")[0]\n",
    "    \n",
    "    #Should convert to datetime\n",
    "    tmp_content['DateTime'] = dT\n",
    "    \n",
    "    #Extracting Input SN\n",
    "    tmp_str = content[0].split(\"\\t\")[1]\n",
    "    SN = tmp_str[tmp_str.find(\":\")+2:]\n",
    "    \n",
    "    tmp_content['SN'] = SN\n",
    "    \n",
    "    #Extracting other features\n",
    "    for each in content:\n",
    "        matchObj = re.match('^[^\\=]*\\=[^\\=]*$',each)\n",
    "\n",
    "        if matchObj:\n",
    "            tmp = each.split(\"=\")\n",
    "            tmp_content[tmp[0].strip()] = tmp[1].strip()\n",
    "        else:\n",
    "            continue\n",
    "    return tmp_content\n",
    "    "
   ]
  },
  {
   "cell_type": "code",
   "execution_count": 9,
   "metadata": {},
   "outputs": [
    {
     "data": {
      "text/plain": [
       "'abc'"
      ]
     },
     "execution_count": 9,
     "metadata": {},
     "output_type": "execute_result"
    }
   ],
   "source": [
    "a = \" abc=de\"\n",
    "a.split(\"=\")[0].strip()"
   ]
  },
  {
   "cell_type": "code",
   "execution_count": 20,
   "metadata": {},
   "outputs": [],
   "source": [
    "col_lst = ['Folder','DateTime','SN','UseTime','GPSEngine','WHERE TO APPLY','APPLICATION DEADLINE','SELECTION','NOTE','NOTICE']\n",
    "\n",
    "#Read multiple files\n",
    "base = \"GPS Test Data/\"\n",
    "\n",
    "list_of_d = []\n",
    "for folder_name in os.listdir(base):\n",
    "    dir_name = base+folder_name+\"/PASS/\"\n",
    "    \n",
    "    for each2 in os.listdir(dir_name):\n",
    "        tmp_content = return_text_list(dir_name+each2)\n",
    "        \n",
    "        row_dic = more_cleaning(folder_name,tmp_content)\n",
    "        list_of_d.append(row_dic)\n",
    "        "
   ]
  },
  {
   "cell_type": "code",
   "execution_count": 21,
   "metadata": {},
   "outputs": [],
   "source": [
    "df = pd.DataFrame(list_of_d)"
   ]
  },
  {
   "cell_type": "code",
   "execution_count": 27,
   "metadata": {},
   "outputs": [],
   "source": [
    "#Change type of data\n",
    "df[\"SNR1\"] = pd.to_numeric(df[\"SNR1\"])\n",
    "df[\"SNR2\"] = pd.to_numeric(df[\"SNR2\"])\n",
    "df[\"SNR3\"] = pd.to_numeric(df[\"SNR3\"])\n",
    "df[\"SNR4\"] = pd.to_numeric(df[\"SNR4\"])\n",
    "df[\"SNR5\"] = pd.to_numeric(df[\"SNR5\"])\n",
    "df[\"SNR6\"] = pd.to_numeric(df[\"SNR6\"])\n",
    "df[\"SNR7\"] = pd.to_numeric(df[\"SNR7\"])\n",
    "df[\"SNR8\"] = pd.to_numeric(df[\"SNR8\"])\n",
    "\n",
    "df[\"at@gpsengine\"] = pd.to_numeric(df[\"at@gpsengine\"])\n",
    "\n",
    "df['DateTime'] = pd.to_datetime(df['DateTime'])\n",
    "\n",
    "df['TTFF'] = df['TTFF'].map(lambda x: x.rstrip(' (s)'))\n",
    "df['Detect OK! Use time'] = df['Detect OK! Use time'].map(lambda x: x.rstrip(' sec.'))\n",
    "df['Enable GPS Module OK! Use time'] = df['Enable GPS Module OK! Use time'].map(lambda x: x.rstrip(' sec.'))\n",
    "df['GPS Signal Test PASS! Use time'] = df['GPS Signal Test PASS! Use time'].map(lambda x: x.rstrip(' sec.'))"
   ]
  },
  {
   "cell_type": "code",
   "execution_count": 28,
   "metadata": {},
   "outputs": [
    {
     "data": {
      "text/html": [
       "<div>\n",
       "<style scoped>\n",
       "    .dataframe tbody tr th:only-of-type {\n",
       "        vertical-align: middle;\n",
       "    }\n",
       "\n",
       "    .dataframe tbody tr th {\n",
       "        vertical-align: top;\n",
       "    }\n",
       "\n",
       "    .dataframe thead th {\n",
       "        text-align: right;\n",
       "    }\n",
       "</style>\n",
       "<table border=\"1\" class=\"dataframe\">\n",
       "  <thead>\n",
       "    <tr style=\"text-align: right;\">\n",
       "      <th></th>\n",
       "      <th>Folder</th>\n",
       "      <th>DateTime</th>\n",
       "      <th>SN</th>\n",
       "      <th>Detect OK! Use time</th>\n",
       "      <th>at@gpsengine</th>\n",
       "      <th>Enable GPS Module OK! Use time</th>\n",
       "      <th>TTFF</th>\n",
       "      <th>SNR1</th>\n",
       "      <th>SNR2</th>\n",
       "      <th>SNR3</th>\n",
       "      <th>SNR4</th>\n",
       "      <th>SNR5</th>\n",
       "      <th>SNR6</th>\n",
       "      <th>SNR7</th>\n",
       "      <th>SNR8</th>\n",
       "      <th>GPS Signal Test PASS! Use time</th>\n",
       "    </tr>\n",
       "  </thead>\n",
       "  <tbody>\n",
       "    <tr>\n",
       "      <th>0</th>\n",
       "      <td>LI5-1834230M</td>\n",
       "      <td>2018-03-08 19:40:56</td>\n",
       "      <td>GEDE-XTJ-53W</td>\n",
       "      <td>6031.637</td>\n",
       "      <td>1</td>\n",
       "      <td>3.550</td>\n",
       "      <td>112.0</td>\n",
       "      <td>34.0</td>\n",
       "      <td>34.0</td>\n",
       "      <td>34.0</td>\n",
       "      <td>34.0</td>\n",
       "      <td>38.0</td>\n",
       "      <td>37.0</td>\n",
       "      <td>30.0</td>\n",
       "      <td>38.0</td>\n",
       "      <td>121.054</td>\n",
       "    </tr>\n",
       "    <tr>\n",
       "      <th>1</th>\n",
       "      <td>LI5-1834230M</td>\n",
       "      <td>2018-03-08 20:25:17</td>\n",
       "      <td>GEPT-UCW-TUC</td>\n",
       "      <td>8847.955</td>\n",
       "      <td>1</td>\n",
       "      <td>0.610</td>\n",
       "      <td>70.0</td>\n",
       "      <td>29.0</td>\n",
       "      <td>33.0</td>\n",
       "      <td>34.0</td>\n",
       "      <td>33.0</td>\n",
       "      <td>37.0</td>\n",
       "      <td>27.0</td>\n",
       "      <td>37.0</td>\n",
       "      <td>27.0</td>\n",
       "      <td>121.050</td>\n",
       "    </tr>\n",
       "    <tr>\n",
       "      <th>2</th>\n",
       "      <td>LI5-1834230M</td>\n",
       "      <td>2018-03-08 20:36:15</td>\n",
       "      <td>GES6-4KZ-C93</td>\n",
       "      <td>9578.204</td>\n",
       "      <td>1</td>\n",
       "      <td>3.580</td>\n",
       "      <td>28.0</td>\n",
       "      <td>36.0</td>\n",
       "      <td>28.0</td>\n",
       "      <td>36.0</td>\n",
       "      <td>27.0</td>\n",
       "      <td>29.0</td>\n",
       "      <td>39.0</td>\n",
       "      <td>31.0</td>\n",
       "      <td>34.0</td>\n",
       "      <td>46.380</td>\n",
       "    </tr>\n",
       "    <tr>\n",
       "      <th>3</th>\n",
       "      <td>LI5-1834230M</td>\n",
       "      <td>2018-03-08 20:26:19</td>\n",
       "      <td>GES6-SZW-AFB</td>\n",
       "      <td>8755.451</td>\n",
       "      <td>1</td>\n",
       "      <td>0.610</td>\n",
       "      <td>120.0</td>\n",
       "      <td>37.0</td>\n",
       "      <td>37.0</td>\n",
       "      <td>36.0</td>\n",
       "      <td>37.0</td>\n",
       "      <td>30.0</td>\n",
       "      <td>34.0</td>\n",
       "      <td>28.0</td>\n",
       "      <td>34.0</td>\n",
       "      <td>120.402</td>\n",
       "    </tr>\n",
       "    <tr>\n",
       "      <th>4</th>\n",
       "      <td>LI5-1834230M</td>\n",
       "      <td>2018-03-08 20:27:00</td>\n",
       "      <td>GETA-PDD-W8K</td>\n",
       "      <td>9029.102</td>\n",
       "      <td>1</td>\n",
       "      <td>0.610</td>\n",
       "      <td>41.0</td>\n",
       "      <td>31.0</td>\n",
       "      <td>27.0</td>\n",
       "      <td>27.0</td>\n",
       "      <td>37.0</td>\n",
       "      <td>37.0</td>\n",
       "      <td>27.0</td>\n",
       "      <td>37.0</td>\n",
       "      <td>27.0</td>\n",
       "      <td>44.970</td>\n",
       "    </tr>\n",
       "  </tbody>\n",
       "</table>\n",
       "</div>"
      ],
      "text/plain": [
       "         Folder            DateTime            SN Detect OK! Use time  \\\n",
       "0  LI5-1834230M 2018-03-08 19:40:56  GEDE-XTJ-53W            6031.637   \n",
       "1  LI5-1834230M 2018-03-08 20:25:17  GEPT-UCW-TUC            8847.955   \n",
       "2  LI5-1834230M 2018-03-08 20:36:15  GES6-4KZ-C93            9578.204   \n",
       "3  LI5-1834230M 2018-03-08 20:26:19  GES6-SZW-AFB            8755.451   \n",
       "4  LI5-1834230M 2018-03-08 20:27:00  GETA-PDD-W8K            9029.102   \n",
       "\n",
       "   at@gpsengine Enable GPS Module OK! Use time   TTFF  SNR1  SNR2  SNR3  SNR4  \\\n",
       "0             1                          3.550  112.0  34.0  34.0  34.0  34.0   \n",
       "1             1                          0.610   70.0  29.0  33.0  34.0  33.0   \n",
       "2             1                          3.580   28.0  36.0  28.0  36.0  27.0   \n",
       "3             1                          0.610  120.0  37.0  37.0  36.0  37.0   \n",
       "4             1                          0.610   41.0  31.0  27.0  27.0  37.0   \n",
       "\n",
       "   SNR5  SNR6  SNR7  SNR8 GPS Signal Test PASS! Use time  \n",
       "0  38.0  37.0  30.0  38.0                        121.054  \n",
       "1  37.0  27.0  37.0  27.0                        121.050  \n",
       "2  29.0  39.0  31.0  34.0                         46.380  \n",
       "3  30.0  34.0  28.0  34.0                        120.402  \n",
       "4  37.0  27.0  37.0  27.0                         44.970  "
      ]
     },
     "execution_count": 28,
     "metadata": {},
     "output_type": "execute_result"
    }
   ],
   "source": [
    "df.head()"
   ]
  },
  {
   "cell_type": "code",
   "execution_count": 23,
   "metadata": {},
   "outputs": [
    {
     "data": {
      "text/plain": [
       "(2180, 16)"
      ]
     },
     "execution_count": 23,
     "metadata": {},
     "output_type": "execute_result"
    }
   ],
   "source": [
    "df.shape"
   ]
  }
 ],
 "metadata": {
  "kernelspec": {
   "display_name": "Python 3",
   "language": "python",
   "name": "python3"
  },
  "language_info": {
   "codemirror_mode": {
    "name": "ipython",
    "version": 3
   },
   "file_extension": ".py",
   "mimetype": "text/x-python",
   "name": "python",
   "nbconvert_exporter": "python",
   "pygments_lexer": "ipython3",
   "version": "3.7.5"
  }
 },
 "nbformat": 4,
 "nbformat_minor": 2
}
